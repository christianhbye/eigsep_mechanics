{
 "cells": [
  {
   "cell_type": "code",
   "execution_count": 24,
   "id": "db928d84",
   "metadata": {},
   "outputs": [
    {
     "name": "stdout",
     "output_type": "stream",
     "text": [
      "The autoreload extension is already loaded. To reload it, use:\n",
      "  %reload_ext autoreload\n"
     ]
    }
   ],
   "source": [
    "%load_ext autoreload\n",
    "%autoreload 2\n",
    "%matplotlib inline"
   ]
  },
  {
   "cell_type": "code",
   "execution_count": 25,
   "id": "58f11ce3",
   "metadata": {},
   "outputs": [],
   "source": [
    "import mechanics"
   ]
  },
  {
   "cell_type": "code",
   "execution_count": 26,
   "id": "e154717c",
   "metadata": {},
   "outputs": [],
   "source": [
    "platform = mechanics.Platform()"
   ]
  },
  {
   "cell_type": "code",
   "execution_count": 27,
   "id": "da2526e6",
   "metadata": {},
   "outputs": [
    {
     "data": {
      "text/plain": [
       "array([[ 3.        ,  0.        ,  0.        ],\n",
       "       [-1.5       ,  2.59807621,  0.        ],\n",
       "       [-1.5       , -2.59807621,  0.        ]])"
      ]
     },
     "execution_count": 27,
     "metadata": {},
     "output_type": "execute_result"
    }
   ],
   "source": [
    "platform.vertices"
   ]
  },
  {
   "cell_type": "code",
   "execution_count": 30,
   "id": "6fc0ba7f",
   "metadata": {},
   "outputs": [
    {
     "data": {
      "image/png": "[encoded data removed]",
      "text/plain": [
       "<Figure size 432x288 with 1 Axes>"
      ]
     },
     "metadata": {
      "needs_background": "light"
     },
     "output_type": "display_data"
    }
   ],
   "source": [
    "platform.plot()"
   ]
  },
  {
   "cell_type": "markdown",
   "id": "e9132e46",
   "metadata": {},
   "source": [
    "Three-point thetering. Label each point with subscript 1, 2, or 3. Make a coordinate system where z=0 is a certain height above the ground (s.t. the platform is close to z=0) and the xy-plane is parallel to the ground."
   ]
  },
  {
   "cell_type": "code",
   "execution_count": 20,
   "id": "9c0bda9d",
   "metadata": {},
   "outputs": [],
   "source": [
    "# Fixed parameters\n",
    "PLATFORM_WIDTH = 5  # m, width of platform (= the shortest dimensions)\n",
    "PLATFORM_LENGTH = 7  # m\n",
    "THETA_MAX = 5  # deg, pointing accuracy\n",
    "\n",
    "# Suppose they are all seperated in azimuth by 120 deg\n",
    "x2, y2 = 0, PLATFORM_WIDTH/2  # define the y-axis to go through this point (phi = 90)\n",
    "# Point 1 is at phi = -30\n",
    "x1 = PLATFORM_LENGTH/2\n",
    "y1 = -x1/np.sqrt(3)  # tan(-30)\n",
    "# Point 3 is point 1 mirrored\n",
    "x3 = -x1\n",
    "y3 = y1"
   ]
  },
  {
   "cell_type": "code",
   "execution_count": 21,
   "id": "cfc14b36",
   "metadata": {},
   "outputs": [],
   "source": [
    "# calculate z-component of normal vector\n",
    "nz = (x2-x1)*(y3-y1) - (y2-y1)*(x3-x1)\n",
    "\n",
    "# n dot (0,0,1) = ||n|| * cos(theta) where theta is the angle the normal vector makes with the vertical\n",
    "# --> the z-component nz is equal to ||n|| cos theta\n",
    "# --> cos(theta) = nz/||n||\n",
    "# theta <= theta_max --> cos(theta) >= cos(theta_max) since cos is a decreasing function in the first quadrant\n",
    "# nz/n = cos(theta) >= cos(theta_max) --> n <= nz/cos(theta_max) := nmax\n",
    "\n",
    "N_MAX = nz/np.cos(THETA_MAX * np.pi/180)"
   ]
  },
  {
   "cell_type": "code",
   "execution_count": 23,
   "id": "d620828e",
   "metadata": {},
   "outputs": [],
   "source": [
    "def normal_vector(z1, z2, z3):\n",
    "    \"\"\"\n",
    "    Calculate normal vector given values of the z-components. The others are known.\n",
    "    \"\"\"\n",
    "    v1 = (x2-x1, y2-y1, z2-z1)\n",
    "    v2 = (x3-x1, y3-y1, z3-z1)\n",
    "    n = np.cross(v1, v2)\n",
    "    return n\n",
    "\n",
    "def normal_length(z1, z2, z3):\n",
    "    n = normal_vector(z1, z2, z3)\n",
    "    nx, ny, nz = n\n",
    "    return np.sqrt(nx**2 + ny**2 + nz**2)"
   ]
  },
  {
   "cell_type": "code",
   "execution_count": 22,
   "id": "912d3b58",
   "metadata": {},
   "outputs": [
    {
     "name": "stdout",
     "output_type": "stream",
     "text": [
      "31.76596066588526\n"
     ]
    }
   ],
   "source": [
    "print(N_MAX)"
   ]
  },
  {
   "cell_type": "code",
   "execution_count": 17,
   "id": "8a3e33a8",
   "metadata": {
    "scrolled": true
   },
   "outputs": [
    {
     "data": {
      "text/plain": [
       "32.4100476575311"
      ]
     },
     "execution_count": 17,
     "metadata": {},
     "output_type": "execute_result"
    }
   ],
   "source": [
    "normal_length(0, 1, 0)"
   ]
  },
  {
   "cell_type": "code",
   "execution_count": null,
   "id": "7005073f",
   "metadata": {},
   "outputs": [],
   "source": []
  },
  {
   "cell_type": "markdown",
   "id": "9428f78b",
   "metadata": {},
   "source": [
    "$$P_i = (x_i, y_i, z_i) \\\\\n",
    "v_1 = P_2 - P_1 \\\\\n",
    "v_2 = P_3 - P_1 \\\\\n",
    "n = v_1 \\times v_2 \\\\\n",
    "||n|| = ||v_1||||v_2||\\sin{\\phi}; \\phi = \\angle(v_1, v_2) \\\\\n",
    "\\cos{\\phi} = \\frac{1}{||v_1||||v_2||}v_1 \\cdot v_2; \\sin{\\phi} = \\sqrt{1-\\cos^2{\\phi}} \\\\\n",
    "||n|| = \\sqrt{||v_1||^2||v_2||^2 - (v_1\\cdot v_2)^2} \\\\\n",
    "||n||^2 = ((x_2-x_1)^2+(y_2-y_1)^2+(z_2-z_1)^2)((x_3-x_1)^2+(y_3-y_1)^2+(z_3-z_1)^2) - (((x_2-x_1)(x_3-x_1)+(y_2-y_1)(y_3-y_1) + (z_2-z_1)(z_3-z_1)))^2\n",
    "$$"
   ]
  },
  {
   "cell_type": "markdown",
   "id": "d29af23e",
   "metadata": {},
   "source": [
    "$$\n",
    "||n||^2 = (x_2-x_1)^2(y_3-y_1)^2+(x_2-x_1)^2(z_3-z_1)^2+(y_2-y_1)^2(x_3-x_1)^2+(y_2-y_1)^2(z_3-z_1)^2+(z_2-z_1)^2(x_3-x_1)^2+(z_2-z_1)^2(y_3-y_1)^2 - 2((x_2-x_1)(x_3-x_1)(y_2-y_1)(y_3-y_1)+(x_2-x_1)(x_3-x_1)(z_2-z_1)(z_3-z_1)+(y_2-y_1)(y_3-y_1)(z_2-z_1)(z_3-z_1))\n",
    "$$"
   ]
  },
  {
   "cell_type": "code",
   "execution_count": null,
   "id": "bfd675d4",
   "metadata": {},
   "outputs": [],
   "source": []
  }
 ],
 "metadata": {
  "kernelspec": {
   "display_name": "Python 3",
   "language": "python",
   "name": "python3"
  },
  "language_info": {
   "codemirror_mode": {
    "name": "ipython",
    "version": 3
   },
   "file_extension": ".py",
   "mimetype": "text/x-python",
   "name": "python",
   "nbconvert_exporter": "python",
   "pygments_lexer": "ipython3",
   "version": "3.6.10"
  }
 },
 "nbformat": 4,
 "nbformat_minor": 5
}
