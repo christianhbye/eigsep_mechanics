{
 "cells": [
  {
   "cell_type": "code",
   "execution_count": 1,
   "id": "58f11ce3",
   "metadata": {},
   "outputs": [],
   "source": [
    "import numpy as np"
   ]
  },
  {
   "cell_type": "markdown",
   "id": "e9132e46",
   "metadata": {},
   "source": [
    "Three-point thetering. Label each point with subscript 1, 2, or 3. $\\theta$ is the angle the cable makes with the horizontal plane (which the platform is parallel to), L is the length of the cable. Define $\\phi$ as the azimuthal angle in the xy-plane (= the platform). The x-axis is along the shortest platform side (arbitrary choice, can be changed)."
   ]
  },
  {
   "cell_type": "code",
   "execution_count": 15,
   "id": "9c0bda9d",
   "metadata": {},
   "outputs": [],
   "source": [
    "# Fixed parameters\n",
    "M_TOT = 50  # kg, total mass\n",
    "CM = -2  # m, position of center of mass relative to the top of the platform (which is at z=0). Suppose it's at x=0,y=0 (i.e. under\n",
    "# the middle of the platform)\n",
    "# Note that CM = distance from platform bottom + platform thickness\n",
    "THETA_1 = 20  # degrees\n",
    "THETA_2 = 20\n",
    "THETA_3 = 20\n",
    "PHI_1 = 0  # degrees, thetering point is at this azimuth\n",
    "PHI_2 = 120\n",
    "PHI_3 = 240\n",
    "\n",
    "# constants\n",
    "g = 9.81  # m/s^2"
   ]
  },
  {
   "cell_type": "code",
   "execution_count": 13,
   "id": "5adcd76a",
   "metadata": {},
   "outputs": [],
   "source": [
    "def Tz(magnitude, theta):\n",
    "    \"\"\"\n",
    "    Calculate z-component of a tension given its magnitude and theta.\n",
    "    Theta is in degrees!!\n",
    "    \"\"\"\n",
    "    theta_rad = theta * np.pi/180\n",
    "    return magnitude * np.sin(theta_rad)\n",
    "\n",
    "def inverseTz(tz, theta):\n",
    "    \"\"\"\n",
    "    invert above equation to compute magnitude of tension given its z-component\n",
    "    \"\"\"\n",
    "    theta_rad = theta * np.pi/180\n",
    "    return tz/(np.sin(theta_rad))"
   ]
  },
  {
   "cell_type": "code",
   "execution_count": null,
   "id": "522ae36e",
   "metadata": {},
   "outputs": [],
   "source": []
  },
  {
   "cell_type": "code",
   "execution_count": 4,
   "id": "c1bcb19c",
   "metadata": {},
   "outputs": [],
   "source": [
    "# balance forces\n",
    "fg = M_TOT * g\n",
    "sum_tensions_z = fg  # sum of z-component of tensions"
   ]
  },
  {
   "cell_type": "code",
   "execution_count": null,
   "id": "fe8998bc",
   "metadata": {},
   "outputs": [],
   "source": []
  }
 ],
 "metadata": {
  "kernelspec": {
   "display_name": "Python 3",
   "language": "python",
   "name": "python3"
  },
  "language_info": {
   "codemirror_mode": {
    "name": "ipython",
    "version": 3
   },
   "file_extension": ".py",
   "mimetype": "text/x-python",
   "name": "python",
   "nbconvert_exporter": "python",
   "pygments_lexer": "ipython3",
   "version": "3.6.10"
  }
 },
 "nbformat": 4,
 "nbformat_minor": 5
}
