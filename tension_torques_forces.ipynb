{
 "cells": [
  {
   "cell_type": "code",
   "execution_count": 1,
   "id": "58f11ce3",
   "metadata": {},
   "outputs": [],
   "source": [
    "import numpy as np"
   ]
  },
  {
   "cell_type": "markdown",
   "id": "e9132e46",
   "metadata": {},
   "source": [
    "Three-point thetering. Label each point with subscript 1, 2, or 3. Make a coordinate system where z=0 is a certain height above the ground (s.t. the platform is close to z=0) and the xy-plane is parallel to the ground."
   ]
  },
  {
   "cell_type": "code",
   "execution_count": 2,
   "id": "9c0bda9d",
   "metadata": {},
   "outputs": [],
   "source": [
    "# constants\n",
    "g = 9.81  # m/s^2\n",
    "\n",
    "# Fixed parameters\n",
    "REF_H = 200  # m, height above ground at which z=0 \n",
    "M_TOT = 50  # kg, total mass\n",
    "PLATFORM_WIDTH = 5  # m, width of platform (= the shortest dimensions)\n",
    "PLATFORM_LENGTH = 7  # m\n",
    "\n",
    "# Suppose they are all seperated in azimuth by 120 deg\n",
    "x2, y2 = 0, PLATFORM_WIDTH/2  # define the y-axis to go through this point (phi = 90)\n",
    "# Point 1 is at phi = -30\n",
    "x1 = PLATFORM_LENGTH/2\n",
    "y1 = -x1/np.sqrt(3)  # tan(-30)\n",
    "# Point 3 is point 1 mirrored\n",
    "x3 = -x1\n",
    "y3 = y1"
   ]
  },
  {
   "cell_type": "code",
   "execution_count": 13,
   "id": "5adcd76a",
   "metadata": {},
   "outputs": [],
   "source": [
    "def Tz(magnitude, theta):\n",
    "    \"\"\"\n",
    "    Calculate z-component of a tension given its magnitude and theta.\n",
    "    Theta is in degrees!!\n",
    "    \"\"\"\n",
    "    theta_rad = theta * np.pi/180\n",
    "    return magnitude * np.sin(theta_rad)\n",
    "\n",
    "def inverseTz(tz, theta):\n",
    "    \"\"\"\n",
    "    invert above equation to compute magnitude of tension given its z-component\n",
    "    \"\"\"\n",
    "    theta_rad = theta * np.pi/180\n",
    "    return tz/(np.sin(theta_rad))"
   ]
  },
  {
   "cell_type": "code",
   "execution_count": null,
   "id": "522ae36e",
   "metadata": {},
   "outputs": [],
   "source": []
  },
  {
   "cell_type": "code",
   "execution_count": 4,
   "id": "c1bcb19c",
   "metadata": {},
   "outputs": [],
   "source": [
    "# balance forces\n",
    "fg = M_TOT * g\n",
    "sum_tensions_z = fg  # sum of z-component of tensions"
   ]
  },
  {
   "cell_type": "code",
   "execution_count": null,
   "id": "fe8998bc",
   "metadata": {},
   "outputs": [],
   "source": []
  }
 ],
 "metadata": {
  "kernelspec": {
   "display_name": "Python 3",
   "language": "python",
   "name": "python3"
  },
  "language_info": {
   "codemirror_mode": {
    "name": "ipython",
    "version": 3
   },
   "file_extension": ".py",
   "mimetype": "text/x-python",
   "name": "python",
   "nbconvert_exporter": "python",
   "pygments_lexer": "ipython3",
   "version": "3.6.10"
  }
 },
 "nbformat": 4,
 "nbformat_minor": 5
}
